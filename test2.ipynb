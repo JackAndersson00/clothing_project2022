{
 "cells": [
  {
   "cell_type": "code",
   "execution_count": 1,
   "metadata": {
    "collapsed": true
   },
   "outputs": [],
   "source": [
    "import pandas as pd\n",
    "import matplotlib.pyplot as plt\n",
    "import seaborn as sns\n",
    "from math import sqrt\n",
    "\n",
    "measure_male_df = pd.read_csv('Sex\\\\male.csv')\n",
    "measure_female_df = pd.read_csv('Sex\\\\female.csv')"
   ]
  },
  {
   "cell_type": "code",
   "execution_count": 59,
   "outputs": [],
   "source": [
    "clean_female_df = measure_female_df[['chestcircumference', 'waistcircumference', 'weightkg', 'stature']]"
   ],
   "metadata": {
    "collapsed": false,
    "pycharm": {
     "name": "#%%\n"
    }
   }
  },
  {
   "cell_type": "code",
   "execution_count": 60,
   "outputs": [],
   "source": [
    "clean_male_df = measure_male_df[['chestcircumference', 'waistcircumference', 'weightkg', 'stature']]"
   ],
   "metadata": {
    "collapsed": false,
    "pycharm": {
     "name": "#%%\n"
    }
   }
  },
  {
   "cell_type": "code",
   "execution_count": 7,
   "outputs": [
    {
     "data": {
      "text/plain": "   chestcircumference  waistcircumference  weightkg  stature\n0                 922                 850       657     1560\n1                 839                 708       534     1665\n2                 874                 727       663     1711\n3                1008                 923       782     1660\n4                1089                1163       886     1572",
      "text/html": "<div>\n<style scoped>\n    .dataframe tbody tr th:only-of-type {\n        vertical-align: middle;\n    }\n\n    .dataframe tbody tr th {\n        vertical-align: top;\n    }\n\n    .dataframe thead th {\n        text-align: right;\n    }\n</style>\n<table border=\"1\" class=\"dataframe\">\n  <thead>\n    <tr style=\"text-align: right;\">\n      <th></th>\n      <th>chestcircumference</th>\n      <th>waistcircumference</th>\n      <th>weightkg</th>\n      <th>stature</th>\n    </tr>\n  </thead>\n  <tbody>\n    <tr>\n      <th>0</th>\n      <td>922</td>\n      <td>850</td>\n      <td>657</td>\n      <td>1560</td>\n    </tr>\n    <tr>\n      <th>1</th>\n      <td>839</td>\n      <td>708</td>\n      <td>534</td>\n      <td>1665</td>\n    </tr>\n    <tr>\n      <th>2</th>\n      <td>874</td>\n      <td>727</td>\n      <td>663</td>\n      <td>1711</td>\n    </tr>\n    <tr>\n      <th>3</th>\n      <td>1008</td>\n      <td>923</td>\n      <td>782</td>\n      <td>1660</td>\n    </tr>\n    <tr>\n      <th>4</th>\n      <td>1089</td>\n      <td>1163</td>\n      <td>886</td>\n      <td>1572</td>\n    </tr>\n  </tbody>\n</table>\n</div>"
     },
     "execution_count": 7,
     "metadata": {},
     "output_type": "execute_result"
    }
   ],
   "source": [
    "clean_female_df.head()"
   ],
   "metadata": {
    "collapsed": false,
    "pycharm": {
     "name": "#%%\n"
    }
   }
  },
  {
   "cell_type": "code",
   "execution_count": 8,
   "outputs": [
    {
     "data": {
      "text/plain": "      chestcircumference  waistcircumference  weightkg  stature\n0                   1074                 933       815     1776\n1                   1021                 870       726     1702\n2                   1120                 964       929     1735\n3                   1114                 857       794     1655\n4                   1048                 868       946     1914\n...                  ...                 ...       ...      ...\n4077                 954                 816       675     1688\n4078                1072                 978       896     1765\n4079                1045                 991       832     1690\n4080                 984                 783       731     1718\n4081                1144                1080       985     1828\n\n[4082 rows x 4 columns]",
      "text/html": "<div>\n<style scoped>\n    .dataframe tbody tr th:only-of-type {\n        vertical-align: middle;\n    }\n\n    .dataframe tbody tr th {\n        vertical-align: top;\n    }\n\n    .dataframe thead th {\n        text-align: right;\n    }\n</style>\n<table border=\"1\" class=\"dataframe\">\n  <thead>\n    <tr style=\"text-align: right;\">\n      <th></th>\n      <th>chestcircumference</th>\n      <th>waistcircumference</th>\n      <th>weightkg</th>\n      <th>stature</th>\n    </tr>\n  </thead>\n  <tbody>\n    <tr>\n      <th>0</th>\n      <td>1074</td>\n      <td>933</td>\n      <td>815</td>\n      <td>1776</td>\n    </tr>\n    <tr>\n      <th>1</th>\n      <td>1021</td>\n      <td>870</td>\n      <td>726</td>\n      <td>1702</td>\n    </tr>\n    <tr>\n      <th>2</th>\n      <td>1120</td>\n      <td>964</td>\n      <td>929</td>\n      <td>1735</td>\n    </tr>\n    <tr>\n      <th>3</th>\n      <td>1114</td>\n      <td>857</td>\n      <td>794</td>\n      <td>1655</td>\n    </tr>\n    <tr>\n      <th>4</th>\n      <td>1048</td>\n      <td>868</td>\n      <td>946</td>\n      <td>1914</td>\n    </tr>\n    <tr>\n      <th>...</th>\n      <td>...</td>\n      <td>...</td>\n      <td>...</td>\n      <td>...</td>\n    </tr>\n    <tr>\n      <th>4077</th>\n      <td>954</td>\n      <td>816</td>\n      <td>675</td>\n      <td>1688</td>\n    </tr>\n    <tr>\n      <th>4078</th>\n      <td>1072</td>\n      <td>978</td>\n      <td>896</td>\n      <td>1765</td>\n    </tr>\n    <tr>\n      <th>4079</th>\n      <td>1045</td>\n      <td>991</td>\n      <td>832</td>\n      <td>1690</td>\n    </tr>\n    <tr>\n      <th>4080</th>\n      <td>984</td>\n      <td>783</td>\n      <td>731</td>\n      <td>1718</td>\n    </tr>\n    <tr>\n      <th>4081</th>\n      <td>1144</td>\n      <td>1080</td>\n      <td>985</td>\n      <td>1828</td>\n    </tr>\n  </tbody>\n</table>\n<p>4082 rows × 4 columns</p>\n</div>"
     },
     "execution_count": 8,
     "metadata": {},
     "output_type": "execute_result"
    }
   ],
   "source": [
    "clean_male_df"
   ],
   "metadata": {
    "collapsed": false,
    "pycharm": {
     "name": "#%%\n"
    }
   }
  },
  {
   "cell_type": "code",
   "execution_count": 61,
   "outputs": [],
   "source": [
    "clean_male_df.to_csv('Sex\\\\clean_male_csv')"
   ],
   "metadata": {
    "collapsed": false,
    "pycharm": {
     "name": "#%%\n"
    }
   }
  },
  {
   "cell_type": "code",
   "execution_count": 62,
   "outputs": [],
   "source": [
    "clean_female_df.to_csv('Sex\\\\clean_female_csv')"
   ],
   "metadata": {
    "collapsed": false,
    "pycharm": {
     "name": "#%%\n"
    }
   }
  },
  {
   "cell_type": "code",
   "execution_count": 17,
   "outputs": [
    {
     "data": {
      "text/plain": "      chestcircumference  waistcircumference  weightkg  stature\n0                  107.4                93.3       815    177.6\n1                  102.1                87.0       726    170.2\n2                  112.0                96.4       929    173.5\n3                  111.4                85.7       794    165.5\n4                  104.8                86.8       946    191.4\n...                  ...                 ...       ...      ...\n4077                95.4                81.6       675    168.8\n4078               107.2                97.8       896    176.5\n4079               104.5                99.1       832    169.0\n4080                98.4                78.3       731    171.8\n4081               114.4               108.0       985    182.8\n\n[4082 rows x 4 columns]",
      "text/html": "<div>\n<style scoped>\n    .dataframe tbody tr th:only-of-type {\n        vertical-align: middle;\n    }\n\n    .dataframe tbody tr th {\n        vertical-align: top;\n    }\n\n    .dataframe thead th {\n        text-align: right;\n    }\n</style>\n<table border=\"1\" class=\"dataframe\">\n  <thead>\n    <tr style=\"text-align: right;\">\n      <th></th>\n      <th>chestcircumference</th>\n      <th>waistcircumference</th>\n      <th>weightkg</th>\n      <th>stature</th>\n    </tr>\n  </thead>\n  <tbody>\n    <tr>\n      <th>0</th>\n      <td>107.4</td>\n      <td>93.3</td>\n      <td>815</td>\n      <td>177.6</td>\n    </tr>\n    <tr>\n      <th>1</th>\n      <td>102.1</td>\n      <td>87.0</td>\n      <td>726</td>\n      <td>170.2</td>\n    </tr>\n    <tr>\n      <th>2</th>\n      <td>112.0</td>\n      <td>96.4</td>\n      <td>929</td>\n      <td>173.5</td>\n    </tr>\n    <tr>\n      <th>3</th>\n      <td>111.4</td>\n      <td>85.7</td>\n      <td>794</td>\n      <td>165.5</td>\n    </tr>\n    <tr>\n      <th>4</th>\n      <td>104.8</td>\n      <td>86.8</td>\n      <td>946</td>\n      <td>191.4</td>\n    </tr>\n    <tr>\n      <th>...</th>\n      <td>...</td>\n      <td>...</td>\n      <td>...</td>\n      <td>...</td>\n    </tr>\n    <tr>\n      <th>4077</th>\n      <td>95.4</td>\n      <td>81.6</td>\n      <td>675</td>\n      <td>168.8</td>\n    </tr>\n    <tr>\n      <th>4078</th>\n      <td>107.2</td>\n      <td>97.8</td>\n      <td>896</td>\n      <td>176.5</td>\n    </tr>\n    <tr>\n      <th>4079</th>\n      <td>104.5</td>\n      <td>99.1</td>\n      <td>832</td>\n      <td>169.0</td>\n    </tr>\n    <tr>\n      <th>4080</th>\n      <td>98.4</td>\n      <td>78.3</td>\n      <td>731</td>\n      <td>171.8</td>\n    </tr>\n    <tr>\n      <th>4081</th>\n      <td>114.4</td>\n      <td>108.0</td>\n      <td>985</td>\n      <td>182.8</td>\n    </tr>\n  </tbody>\n</table>\n<p>4082 rows × 4 columns</p>\n</div>"
     },
     "execution_count": 17,
     "metadata": {},
     "output_type": "execute_result"
    }
   ],
   "source": [
    "clean_male_df"
   ],
   "metadata": {
    "collapsed": false,
    "pycharm": {
     "name": "#%%\n"
    }
   }
  },
  {
   "cell_type": "code",
   "execution_count": 15,
   "outputs": [
    {
     "data": {
      "text/plain": "      chestcircumference  waistcircumference  weightkg  stature\n0                   92.2                85.0       657    156.0\n1                   83.9                70.8       534    166.5\n2                   87.4                72.7       663    171.1\n3                  100.8                92.3       782    166.0\n4                  108.9               116.3       886    157.2\n...                  ...                 ...       ...      ...\n1981               108.2               104.3       832    168.7\n1982               101.6                97.1       717    161.3\n1983               109.3                98.2       762    164.4\n1984                92.2                83.7       632    161.6\n1985                90.2                89.1       610    164.1\n\n[1986 rows x 4 columns]",
      "text/html": "<div>\n<style scoped>\n    .dataframe tbody tr th:only-of-type {\n        vertical-align: middle;\n    }\n\n    .dataframe tbody tr th {\n        vertical-align: top;\n    }\n\n    .dataframe thead th {\n        text-align: right;\n    }\n</style>\n<table border=\"1\" class=\"dataframe\">\n  <thead>\n    <tr style=\"text-align: right;\">\n      <th></th>\n      <th>chestcircumference</th>\n      <th>waistcircumference</th>\n      <th>weightkg</th>\n      <th>stature</th>\n    </tr>\n  </thead>\n  <tbody>\n    <tr>\n      <th>0</th>\n      <td>92.2</td>\n      <td>85.0</td>\n      <td>657</td>\n      <td>156.0</td>\n    </tr>\n    <tr>\n      <th>1</th>\n      <td>83.9</td>\n      <td>70.8</td>\n      <td>534</td>\n      <td>166.5</td>\n    </tr>\n    <tr>\n      <th>2</th>\n      <td>87.4</td>\n      <td>72.7</td>\n      <td>663</td>\n      <td>171.1</td>\n    </tr>\n    <tr>\n      <th>3</th>\n      <td>100.8</td>\n      <td>92.3</td>\n      <td>782</td>\n      <td>166.0</td>\n    </tr>\n    <tr>\n      <th>4</th>\n      <td>108.9</td>\n      <td>116.3</td>\n      <td>886</td>\n      <td>157.2</td>\n    </tr>\n    <tr>\n      <th>...</th>\n      <td>...</td>\n      <td>...</td>\n      <td>...</td>\n      <td>...</td>\n    </tr>\n    <tr>\n      <th>1981</th>\n      <td>108.2</td>\n      <td>104.3</td>\n      <td>832</td>\n      <td>168.7</td>\n    </tr>\n    <tr>\n      <th>1982</th>\n      <td>101.6</td>\n      <td>97.1</td>\n      <td>717</td>\n      <td>161.3</td>\n    </tr>\n    <tr>\n      <th>1983</th>\n      <td>109.3</td>\n      <td>98.2</td>\n      <td>762</td>\n      <td>164.4</td>\n    </tr>\n    <tr>\n      <th>1984</th>\n      <td>92.2</td>\n      <td>83.7</td>\n      <td>632</td>\n      <td>161.6</td>\n    </tr>\n    <tr>\n      <th>1985</th>\n      <td>90.2</td>\n      <td>89.1</td>\n      <td>610</td>\n      <td>164.1</td>\n    </tr>\n  </tbody>\n</table>\n<p>1986 rows × 4 columns</p>\n</div>"
     },
     "execution_count": 15,
     "metadata": {},
     "output_type": "execute_result"
    }
   ],
   "source": [
    "clean_female_df"
   ],
   "metadata": {
    "collapsed": false,
    "pycharm": {
     "name": "#%%\n"
    }
   }
  },
  {
   "cell_type": "code",
   "execution_count": 63,
   "outputs": [
    {
     "name": "stderr",
     "output_type": "stream",
     "text": [
      "C:\\Users\\Hejlo6\\AppData\\Local\\Temp\\ipykernel_18048\\1523271023.py:1: SettingWithCopyWarning: \n",
      "A value is trying to be set on a copy of a slice from a DataFrame.\n",
      "Try using .loc[row_indexer,col_indexer] = value instead\n",
      "\n",
      "See the caveats in the documentation: https://pandas.pydata.org/pandas-docs/stable/user_guide/indexing.html#returning-a-view-versus-a-copy\n",
      "  clean_female_df['chestcircumference'] = clean_female_df['chestcircumference'].apply(lambda x: x/10)\n",
      "C:\\Users\\Hejlo6\\AppData\\Local\\Temp\\ipykernel_18048\\1523271023.py:2: SettingWithCopyWarning: \n",
      "A value is trying to be set on a copy of a slice from a DataFrame.\n",
      "Try using .loc[row_indexer,col_indexer] = value instead\n",
      "\n",
      "See the caveats in the documentation: https://pandas.pydata.org/pandas-docs/stable/user_guide/indexing.html#returning-a-view-versus-a-copy\n",
      "  clean_female_df['waistcircumference'] = clean_female_df['waistcircumference'].apply(lambda x: x/10)\n",
      "C:\\Users\\Hejlo6\\AppData\\Local\\Temp\\ipykernel_18048\\1523271023.py:3: SettingWithCopyWarning: \n",
      "A value is trying to be set on a copy of a slice from a DataFrame.\n",
      "Try using .loc[row_indexer,col_indexer] = value instead\n",
      "\n",
      "See the caveats in the documentation: https://pandas.pydata.org/pandas-docs/stable/user_guide/indexing.html#returning-a-view-versus-a-copy\n",
      "  clean_female_df['stature'] = clean_female_df['stature'].apply(lambda x: x/10)\n",
      "C:\\Users\\Hejlo6\\AppData\\Local\\Temp\\ipykernel_18048\\1523271023.py:4: SettingWithCopyWarning: \n",
      "A value is trying to be set on a copy of a slice from a DataFrame.\n",
      "Try using .loc[row_indexer,col_indexer] = value instead\n",
      "\n",
      "See the caveats in the documentation: https://pandas.pydata.org/pandas-docs/stable/user_guide/indexing.html#returning-a-view-versus-a-copy\n",
      "  clean_female_df['weightkg'] = clean_female_df['weightkg'].apply(lambda x: x/10)\n"
     ]
    }
   ],
   "source": [
    "clean_female_df['chestcircumference'] = clean_female_df['chestcircumference'].apply(lambda x: x/10)\n",
    "clean_female_df['waistcircumference'] = clean_female_df['waistcircumference'].apply(lambda x: x/10)\n",
    "clean_female_df['stature'] = clean_female_df['stature'].apply(lambda x: x/10)\n",
    "clean_female_df['weightkg'] = clean_female_df['weightkg'].apply(lambda x: x/10)"
   ],
   "metadata": {
    "collapsed": false,
    "pycharm": {
     "name": "#%%\n"
    }
   }
  },
  {
   "cell_type": "code",
   "execution_count": 64,
   "outputs": [
    {
     "name": "stderr",
     "output_type": "stream",
     "text": [
      "C:\\Users\\Hejlo6\\AppData\\Local\\Temp\\ipykernel_18048\\212755632.py:1: SettingWithCopyWarning: \n",
      "A value is trying to be set on a copy of a slice from a DataFrame.\n",
      "Try using .loc[row_indexer,col_indexer] = value instead\n",
      "\n",
      "See the caveats in the documentation: https://pandas.pydata.org/pandas-docs/stable/user_guide/indexing.html#returning-a-view-versus-a-copy\n",
      "  clean_male_df['chestcircumference'] = clean_male_df['chestcircumference'].apply(lambda x: x/10)\n",
      "C:\\Users\\Hejlo6\\AppData\\Local\\Temp\\ipykernel_18048\\212755632.py:2: SettingWithCopyWarning: \n",
      "A value is trying to be set on a copy of a slice from a DataFrame.\n",
      "Try using .loc[row_indexer,col_indexer] = value instead\n",
      "\n",
      "See the caveats in the documentation: https://pandas.pydata.org/pandas-docs/stable/user_guide/indexing.html#returning-a-view-versus-a-copy\n",
      "  clean_male_df['waistcircumference'] = clean_male_df['waistcircumference'].apply(lambda x: x/10)\n",
      "C:\\Users\\Hejlo6\\AppData\\Local\\Temp\\ipykernel_18048\\212755632.py:3: SettingWithCopyWarning: \n",
      "A value is trying to be set on a copy of a slice from a DataFrame.\n",
      "Try using .loc[row_indexer,col_indexer] = value instead\n",
      "\n",
      "See the caveats in the documentation: https://pandas.pydata.org/pandas-docs/stable/user_guide/indexing.html#returning-a-view-versus-a-copy\n",
      "  clean_male_df['stature'] = clean_male_df['stature'].apply(lambda x: x/10)\n",
      "C:\\Users\\Hejlo6\\AppData\\Local\\Temp\\ipykernel_18048\\212755632.py:4: SettingWithCopyWarning: \n",
      "A value is trying to be set on a copy of a slice from a DataFrame.\n",
      "Try using .loc[row_indexer,col_indexer] = value instead\n",
      "\n",
      "See the caveats in the documentation: https://pandas.pydata.org/pandas-docs/stable/user_guide/indexing.html#returning-a-view-versus-a-copy\n",
      "  clean_male_df['weightkg'] = clean_male_df['weightkg'].apply(lambda x: x/10)\n"
     ]
    }
   ],
   "source": [
    "clean_male_df['chestcircumference'] = clean_male_df['chestcircumference'].apply(lambda x: x/10)\n",
    "clean_male_df['waistcircumference'] = clean_male_df['waistcircumference'].apply(lambda x: x/10)\n",
    "clean_male_df['stature'] = clean_male_df['stature'].apply(lambda x: x/10)\n",
    "clean_male_df['weightkg'] = clean_male_df['weightkg'].apply(lambda x: x/10)"
   ],
   "metadata": {
    "collapsed": false,
    "pycharm": {
     "name": "#%%\n"
    }
   }
  },
  {
   "cell_type": "code",
   "execution_count": 65,
   "outputs": [],
   "source": [
    "def create_sample(df, sex, columns: list, size):\n",
    "    [list(df.columns).index(column) for column in columns]\n",
    "    df = df.iloc[:size, [list(df.columns).index(column) for column in columns]].copy()\n",
    "    df.to_csv(f'Sex\\\\{sex}_sample{size}.csv', index=False)\n",
    "\n",
    "def backup_sample(df, sex, size):\n",
    "    df.to_csv(f'Sex\\\\{sex}_sample{size}.csv', index=False)"
   ],
   "metadata": {
    "collapsed": false,
    "pycharm": {
     "name": "#%%\n"
    }
   }
  },
  {
   "cell_type": "code",
   "execution_count": 66,
   "outputs": [],
   "source": [
    "create_sample(clean_male_df, 'male', ['chestcircumference', 'waistcircumference', 'stature', 'weightkg'], 100)\n",
    "create_sample(clean_female_df, 'female', ['chestcircumference', 'waistcircumference', 'stature', 'weightkg'], 100)"
   ],
   "metadata": {
    "collapsed": false,
    "pycharm": {
     "name": "#%%\n"
    }
   }
  },
  {
   "cell_type": "code",
   "execution_count": 67,
   "outputs": [],
   "source": [
    "men_sizes = {\"XXS\": 84, \"XS\": 90, \"S\": 95, \"M\": 102, \"L\": 112, \"XL\": 122, \"XXL\": 133, \"3XL\": 1000}\n",
    "female_sizes = {\"XSS\": 75, \"XS\": 82, \"S\": 89, \"M\": 96, \"L\": 106, \"XL\": 116, \"XXL\": 1000}"
   ],
   "metadata": {
    "collapsed": false,
    "pycharm": {
     "name": "#%%\n"
    }
   }
  },
  {
   "cell_type": "code",
   "execution_count": 68,
   "outputs": [],
   "source": [
    "def categories_by_size(df, sizes):\n",
    "    cloth_sizes = []\n",
    "    for row in range(df.shape[0]):\n",
    "        size = next(key for key in sizes if df['chestcircumference'][row] < sizes[key])\n",
    "        cloth_sizes.append(size)\n",
    "    df['clothingsize'] = cloth_sizes\n",
    "    return df"
   ],
   "metadata": {
    "collapsed": false,
    "pycharm": {
     "name": "#%%\n"
    }
   }
  },
  {
   "cell_type": "code",
   "execution_count": 69,
   "outputs": [
    {
     "name": "stdout",
     "output_type": "stream",
     "text": [
      "    chestcircumference  waistcircumference  stature  weightkg clothingsize\n",
      "0                107.4                93.3    177.6      81.5            L\n",
      "1                102.1                87.0    170.2      72.6            L\n",
      "2                112.0                96.4    173.5      92.9           XL\n",
      "3                111.4                85.7    165.5      79.4            L\n",
      "4                104.8                86.8    191.4      94.6            L\n",
      "..                 ...                 ...      ...       ...          ...\n",
      "95                99.4                80.9    179.1      77.5            M\n",
      "96               100.1                86.2    165.7      72.7            M\n",
      "97               106.9               102.7    170.1      79.7            L\n",
      "98                99.5                79.7    178.6      74.4            M\n",
      "99               110.4               108.2    175.5      96.8            L\n",
      "\n",
      "[100 rows x 5 columns]\n",
      "    chestcircumference  waistcircumference  stature  weightkg clothingsize\n",
      "0                 92.2                85.0    156.0      65.7            M\n",
      "1                 83.9                70.8    166.5      53.4            S\n",
      "2                 87.4                72.7    171.1      66.3            S\n",
      "3                100.8                92.3    166.0      78.2            L\n",
      "4                108.9               116.3    157.2      88.6           XL\n",
      "..                 ...                 ...      ...       ...          ...\n",
      "95                98.6                94.8    149.5      58.1            L\n",
      "96                95.1                91.2    149.3      64.2            M\n",
      "97               106.8                98.9    164.1      75.8           XL\n",
      "98                94.5                88.7    160.7      68.3            M\n",
      "99                82.6                69.8    156.0      47.1            S\n",
      "\n",
      "[100 rows x 5 columns]\n"
     ]
    }
   ],
   "source": [
    "df_male = pd.read_csv('Sex\\\\male_sample100.csv')\n",
    "df_male = categories_by_size(df_male, men_sizes)\n",
    "print(df_male)\n",
    "backup_sample(df_male, 'male', 100)\n",
    "\n",
    "df_female = pd.read_csv('Sex\\\\female_sample100.csv')\n",
    "df_female = categories_by_size(df_female, female_sizes)\n",
    "print(df_female)\n",
    "backup_sample(df_female, 'female', 100)"
   ],
   "metadata": {
    "collapsed": false,
    "pycharm": {
     "name": "#%%\n"
    }
   }
  },
  {
   "cell_type": "code",
   "execution_count": 70,
   "outputs": [
    {
     "name": "stdout",
     "output_type": "stream",
     "text": [
      "========== Male ==========\n",
      "    chestcircumference  waistcircumference  stature  weightkg clothingsize\n",
      "0                107.4                93.3    177.6      81.5            L\n",
      "1                102.1                87.0    170.2      72.6            L\n",
      "2                112.0                96.4    173.5      92.9           XL\n",
      "3                111.4                85.7    165.5      79.4            L\n",
      "4                104.8                86.8    191.4      94.6            L\n",
      "..                 ...                 ...      ...       ...          ...\n",
      "95                99.4                80.9    179.1      77.5            M\n",
      "96               100.1                86.2    165.7      72.7            M\n",
      "97               106.9               102.7    170.1      79.7            L\n",
      "98                99.5                79.7    178.6      74.4            M\n",
      "99               110.4               108.2    175.5      96.8            L\n",
      "\n",
      "[100 rows x 5 columns]\n",
      "Index(['chestcircumference', 'waistcircumference', 'stature', 'weightkg',\n",
      "       'clothingsize'],\n",
      "      dtype='object') \n",
      "\n",
      "chestcircumference    100\n",
      "waistcircumference    100\n",
      "stature               100\n",
      "weightkg              100\n",
      "clothingsize          100\n",
      "dtype: int64\n"
     ]
    },
    {
     "data": {
      "text/plain": "<Figure size 432x288 with 1 Axes>",
      "image/png": "[encoded data removed]"
     },
     "metadata": {
      "needs_background": "light"
     },
     "output_type": "display_data"
    }
   ],
   "source": [
    "print(\"=\"*10 + \" Male \" + \"=\"*10)\n",
    "df_male = pd.read_csv('Sex\\\\male_sample100.csv')\n",
    "print(df_male)\n",
    "print(df_male.columns, '\\n')\n",
    "print(df_male.count())\n",
    "sns.scatterplot(data=df_male, x='chestcircumference', y='waistcircumference', hue='clothingsize')\n",
    "plt.show()"
   ],
   "metadata": {
    "collapsed": false,
    "pycharm": {
     "name": "#%%\n"
    }
   }
  },
  {
   "cell_type": "code",
   "execution_count": 71,
   "outputs": [
    {
     "name": "stdout",
     "output_type": "stream",
     "text": [
      "========== Female ==========\n",
      "    chestcircumference  waistcircumference  stature  weightkg clothingsize\n",
      "0                 92.2                85.0    156.0      65.7            M\n",
      "1                 83.9                70.8    166.5      53.4            S\n",
      "2                 87.4                72.7    171.1      66.3            S\n",
      "3                100.8                92.3    166.0      78.2            L\n",
      "4                108.9               116.3    157.2      88.6           XL\n",
      "..                 ...                 ...      ...       ...          ...\n",
      "95                98.6                94.8    149.5      58.1            L\n",
      "96                95.1                91.2    149.3      64.2            M\n",
      "97               106.8                98.9    164.1      75.8           XL\n",
      "98                94.5                88.7    160.7      68.3            M\n",
      "99                82.6                69.8    156.0      47.1            S\n",
      "\n",
      "[100 rows x 5 columns]\n",
      "Index(['chestcircumference', 'waistcircumference', 'stature', 'weightkg',\n",
      "       'clothingsize'],\n",
      "      dtype='object') \n",
      "\n",
      "chestcircumference    100\n",
      "waistcircumference    100\n",
      "stature               100\n",
      "weightkg              100\n",
      "clothingsize          100\n",
      "dtype: int64\n"
     ]
    },
    {
     "data": {
      "text/plain": "<Figure size 432x288 with 1 Axes>",
      "image/png": "[encoded data removed]"
     },
     "metadata": {
      "needs_background": "light"
     },
     "output_type": "display_data"
    }
   ],
   "source": [
    "print(\"=\"*10 + \" Female \" + \"=\"*10)\n",
    "df_female = pd.read_csv('Sex\\\\female_sample100.csv')\n",
    "print(df_female)\n",
    "print(df_female.columns, '\\n')\n",
    "print(df_female.count())\n",
    "sns.scatterplot(data=df_female, x='weightkg', y='stature', hue='clothingsize')\n",
    "plt.show()"
   ],
   "metadata": {
    "collapsed": false,
    "pycharm": {
     "name": "#%%\n"
    }
   }
  },
  {
   "cell_type": "code",
   "execution_count": 72,
   "outputs": [],
   "source": [
    "def k_nearest_neighbor(df, P: list, k: int):\n",
    "    def vec_abs(vec):\n",
    "        return sqrt(sum([unit**2 for unit in vec]))\n",
    "\n",
    "    def compute_vec(P_1, P_2):\n",
    "        return [P_2[col] - P_1[col] for col in range(2)]\n",
    "\n",
    "    points = []\n",
    "    for row in range(df.shape[0]):\n",
    "        point = [df['stature'][row], df['weightkg'][row]]\n",
    "        vec = compute_vec(P, point)\n",
    "        points.append((df['clothingsize'][row] ,vec_abs(vec)))\n",
    "\n",
    "    cluster = [size[0] for size in sorted(points, key=lambda y: y[1])[:k]]\n",
    "    del points\n",
    "    cluster_point = {i: cluster.count(i) for i in cluster}\n",
    "    return max(cluster_point, key=cluster_point.get)"
   ],
   "metadata": {
    "collapsed": false,
    "pycharm": {
     "name": "#%%\n"
    }
   }
  },
  {
   "cell_type": "code",
   "execution_count": 73,
   "outputs": [
    {
     "name": "stdout",
     "output_type": "stream",
     "text": [
      "Your predicted clothing size: L\n"
     ]
    }
   ],
   "source": [
    "#chestcircumference\n",
    "height = input(\"Enter your height (cm):\")\n",
    "#waistcircumference\n",
    "weight = input(\"Enter your weight (kg):\")\n",
    "\n",
    "gender = input(\"Are you male or female?\")\n",
    "\n",
    "df = pd.read_csv('Sex\\\\female_sample100.csv') if gender == \"female\" else pd.read_csv('Sex\\\\male_sample100.csv')\n",
    "size = k_nearest_neighbor(df, [float(height), float(weight)], 3)\n",
    "print(f\"Your predicted clothing size: {size}\")"
   ],
   "metadata": {
    "collapsed": false,
    "pycharm": {
     "name": "#%%\n"
    }
   }
  }
 ],
 "metadata": {
  "kernelspec": {
   "display_name": "Python 3",
   "language": "python",
   "name": "python3"
  },
  "language_info": {
   "codemirror_mode": {
    "name": "ipython",
    "version": 2
   },
   "file_extension": ".py",
   "mimetype": "text/x-python",
   "name": "python",
   "nbconvert_exporter": "python",
   "pygments_lexer": "ipython2",
   "version": "2.7.6"
  }
 },
 "nbformat": 4,
 "nbformat_minor": 0
}